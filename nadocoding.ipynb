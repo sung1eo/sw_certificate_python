{
  "nbformat": 4,
  "nbformat_minor": 0,
  "metadata": {
    "colab": {
      "name": "Untitled1.ipynb",
      "provenance": [],
      "collapsed_sections": [],
      "authorship_tag": "ABX9TyMW+tID6Qm3wlm0e/o8z7X0",
      "include_colab_link": true
    },
    "kernelspec": {
      "name": "python3",
      "display_name": "Python 3"
    }
  },
  "cells": [
    {
      "cell_type": "markdown",
      "metadata": {
        "id": "view-in-github",
        "colab_type": "text"
      },
      "source": [
        "<a href=\"https://colab.research.google.com/github/sung1eo/sw_certificate_python/blob/main/nadocoding.ipynb\" target=\"_parent\"><img src=\"https://colab.research.google.com/assets/colab-badge.svg\" alt=\"Open In Colab\"/></a>"
      ]
    },
    {
      "cell_type": "markdown",
      "metadata": {
        "id": "UVX__J73R7zi"
      },
      "source": [
        "4-1 문자열"
      ]
    },
    {
      "cell_type": "code",
      "metadata": {
        "id": "zwZ7kmGjP52G"
      },
      "source": [
        "sentence = \"i'm a boy\""
      ],
      "execution_count": null,
      "outputs": []
    },
    {
      "cell_type": "code",
      "metadata": {
        "colab": {
          "base_uri": "https://localhost:8080/"
        },
        "id": "hbdaS_YgQ6-7",
        "outputId": "3ac86ecd-4d60-44ce-d29d-1165b0cfb014"
      },
      "source": [
        "print(sentence)"
      ],
      "execution_count": null,
      "outputs": [
        {
          "output_type": "stream",
          "text": [
            "i'm a boy\n"
          ],
          "name": "stdout"
        }
      ]
    },
    {
      "cell_type": "markdown",
      "metadata": {
        "id": "KJ-nneFvRrRd"
      },
      "source": [
        "Using ''' can save the sentence and converting rows\n",
        "\n"
      ]
    },
    {
      "cell_type": "code",
      "metadata": {
        "id": "AJQKbtnYRL5F"
      },
      "source": [
        "# '''"
      ],
      "execution_count": null,
      "outputs": []
    },
    {
      "cell_type": "code",
      "metadata": {
        "id": "IznfhIRpQ8U6"
      },
      "source": [
        "sentence2 = '''\r\n",
        "i'm a boy\r\n",
        "and python is easy\r\n",
        "'''"
      ],
      "execution_count": null,
      "outputs": []
    },
    {
      "cell_type": "code",
      "metadata": {
        "colab": {
          "base_uri": "https://localhost:8080/"
        },
        "id": "1fYe2i4rRJZG",
        "outputId": "2ef863da-1b1f-441a-81b9-a583028a4e49"
      },
      "source": [
        "print(sentence2)"
      ],
      "execution_count": null,
      "outputs": [
        {
          "output_type": "stream",
          "text": [
            "\n",
            "i'm a boy\n",
            "and python is easy\n",
            "\n"
          ],
          "name": "stdout"
        }
      ]
    },
    {
      "cell_type": "markdown",
      "metadata": {
        "id": "T6nbq7fTSOr4"
      },
      "source": [
        "4-2 슬라이싱"
      ]
    },
    {
      "cell_type": "code",
      "metadata": {
        "id": "9JIbbQUHRKU4"
      },
      "source": [
        "jumin = '990120-1234567'"
      ],
      "execution_count": null,
      "outputs": []
    },
    {
      "cell_type": "code",
      "metadata": {
        "id": "xfqXkO6zSYN9"
      },
      "source": [
        "sex = jumin[7]"
      ],
      "execution_count": null,
      "outputs": []
    },
    {
      "cell_type": "code",
      "metadata": {
        "colab": {
          "base_uri": "https://localhost:8080/"
        },
        "id": "MotV-sxeSsIz",
        "outputId": "11d0deff-f227-4f7a-910a-6acb06200f2a"
      },
      "source": [
        "print(sex)"
      ],
      "execution_count": null,
      "outputs": [
        {
          "output_type": "stream",
          "text": [
            "1\n"
          ],
          "name": "stdout"
        }
      ]
    },
    {
      "cell_type": "code",
      "metadata": {
        "id": "UhrBTbH5SstK"
      },
      "source": [
        "year = jumin[0:2]"
      ],
      "execution_count": null,
      "outputs": []
    },
    {
      "cell_type": "code",
      "metadata": {
        "colab": {
          "base_uri": "https://localhost:8080/"
        },
        "id": "GLRz2yOwSwji",
        "outputId": "d7a4f9a9-0070-46ba-e282-8c957add9688"
      },
      "source": [
        "print(year)"
      ],
      "execution_count": null,
      "outputs": [
        {
          "output_type": "stream",
          "text": [
            "99\n"
          ],
          "name": "stdout"
        }
      ]
    },
    {
      "cell_type": "code",
      "metadata": {
        "colab": {
          "base_uri": "https://localhost:8080/"
        },
        "id": "si1daOoKSxed",
        "outputId": "bfc348e4-432c-436c-f668-e0e4df519518"
      },
      "source": [
        "print('뒤 7자리(뒤부터)' + jumin[-7:])"
      ],
      "execution_count": null,
      "outputs": [
        {
          "output_type": "stream",
          "text": [
            "뒤 7자리(뒤부터)1234567\n"
          ],
          "name": "stdout"
        }
      ]
    },
    {
      "cell_type": "markdown",
      "metadata": {
        "id": "E6iifvC5TGnO"
      },
      "source": [
        "4-3 문자열 처리 함수"
      ]
    },
    {
      "cell_type": "code",
      "metadata": {
        "id": "wc5pTwq2TC8-"
      },
      "source": [
        "python = 'Python is Amazing'"
      ],
      "execution_count": null,
      "outputs": []
    },
    {
      "cell_type": "code",
      "metadata": {
        "colab": {
          "base_uri": "https://localhost:8080/"
        },
        "id": "Ro0IqYvsTHsQ",
        "outputId": "8cf66b46-4f58-4b31-b371-9c78b429fba3"
      },
      "source": [
        "# 소문자로\r\n",
        "print(python.lower())"
      ],
      "execution_count": 43,
      "outputs": [
        {
          "output_type": "stream",
          "text": [
            "python is amazing\n"
          ],
          "name": "stdout"
        }
      ]
    },
    {
      "cell_type": "code",
      "metadata": {
        "colab": {
          "base_uri": "https://localhost:8080/"
        },
        "id": "NjqF_DdRTMr4",
        "outputId": "7b8bcd08-073c-4f1c-8906-19e681d16c12"
      },
      "source": [
        "# 대문자로\r\n",
        "print(python.upper())"
      ],
      "execution_count": 45,
      "outputs": [
        {
          "output_type": "stream",
          "text": [
            "PYTHON IS AMAZING\n"
          ],
          "name": "stdout"
        }
      ]
    },
    {
      "cell_type": "code",
      "metadata": {
        "colab": {
          "base_uri": "https://localhost:8080/"
        },
        "id": "_q_Kmh24TQZF",
        "outputId": "a687292e-25b7-4161-dc34-a1eb894c6a96"
      },
      "source": [
        "# 대문자 맞니?\r\n",
        "print(python[0].isupper())"
      ],
      "execution_count": 46,
      "outputs": [
        {
          "output_type": "stream",
          "text": [
            "True\n"
          ],
          "name": "stdout"
        }
      ]
    },
    {
      "cell_type": "code",
      "metadata": {
        "id": "Xc0nfs2wTVZn",
        "colab": {
          "base_uri": "https://localhost:8080/"
        },
        "outputId": "685707d0-9cdb-4914-cfda-c772f5f4eb28"
      },
      "source": [
        "print(len(python))"
      ],
      "execution_count": null,
      "outputs": [
        {
          "output_type": "stream",
          "text": [
            "17\n"
          ],
          "name": "stdout"
        }
      ]
    },
    {
      "cell_type": "code",
      "metadata": {
        "colab": {
          "base_uri": "https://localhost:8080/"
        },
        "id": "_BMSos2fVa8O",
        "outputId": "40132ddf-15ab-4bfb-d188-d9f3f0664b38"
      },
      "source": [
        "print(python.replace(\"Python\",\"Java\"))"
      ],
      "execution_count": null,
      "outputs": [
        {
          "output_type": "stream",
          "text": [
            "Java is Amazing\n"
          ],
          "name": "stdout"
        }
      ]
    },
    {
      "cell_type": "code",
      "metadata": {
        "id": "u7EMn77xVegB"
      },
      "source": [
        "index = python.index('n')"
      ],
      "execution_count": null,
      "outputs": []
    },
    {
      "cell_type": "code",
      "metadata": {
        "colab": {
          "base_uri": "https://localhost:8080/"
        },
        "id": "agTXlrOSVjLq",
        "outputId": "36bcee8e-80c3-4130-8c8b-7bbb40503106"
      },
      "source": [
        "print(index)"
      ],
      "execution_count": null,
      "outputs": [
        {
          "output_type": "stream",
          "text": [
            "5\n"
          ],
          "name": "stdout"
        }
      ]
    },
    {
      "cell_type": "code",
      "metadata": {
        "colab": {
          "base_uri": "https://localhost:8080/"
        },
        "id": "NV077qy1VlK4",
        "outputId": "e30e7ee3-0ec0-42b3-b4b4-31e4b6b2e087"
      },
      "source": [
        "index1 = python.index('n')+1\n",
        "print(index1)"
      ],
      "execution_count": null,
      "outputs": [
        {
          "output_type": "stream",
          "text": [
            "6\n"
          ],
          "name": "stdout"
        }
      ]
    },
    {
      "cell_type": "code",
      "metadata": {
        "colab": {
          "base_uri": "https://localhost:8080/"
        },
        "id": "HEEBPABDV2K7",
        "outputId": "2270db19-5636-4577-f415-d8a9073a8079"
      },
      "source": [
        "# Find를 쓰는 경우 Java를 못찾으면 -1 리턴 \n",
        "print(python.find('Java'))"
      ],
      "execution_count": null,
      "outputs": [
        {
          "output_type": "stream",
          "text": [
            "-1\n"
          ],
          "name": "stdout"
        }
      ]
    },
    {
      "cell_type": "code",
      "metadata": {
        "colab": {
          "base_uri": "https://localhost:8080/",
          "height": 225
        },
        "id": "tJe-9pNPWE-J",
        "outputId": "0d90816b-e9ff-4c29-ad7c-43b044a153ec"
      },
      "source": [
        "# Index를 쓰는 경우 에러 출력\n",
        "print(python.index('Java'))"
      ],
      "execution_count": null,
      "outputs": [
        {
          "output_type": "error",
          "ename": "ValueError",
          "evalue": "ignored",
          "traceback": [
            "\u001b[0;31m---------------------------------------------------------------------------\u001b[0m",
            "\u001b[0;31mValueError\u001b[0m                                Traceback (most recent call last)",
            "\u001b[0;32m<ipython-input-24-36e7eeb77c17>\u001b[0m in \u001b[0;36m<module>\u001b[0;34m()\u001b[0m\n\u001b[1;32m      1\u001b[0m \u001b[0;31m# Index를 쓰는 경우 에러 출력\u001b[0m\u001b[0;34m\u001b[0m\u001b[0;34m\u001b[0m\u001b[0;34m\u001b[0m\u001b[0m\n\u001b[0;32m----> 2\u001b[0;31m \u001b[0mprint\u001b[0m\u001b[0;34m(\u001b[0m\u001b[0mpython\u001b[0m\u001b[0;34m.\u001b[0m\u001b[0mindex\u001b[0m\u001b[0;34m(\u001b[0m\u001b[0;34m'Java'\u001b[0m\u001b[0;34m)\u001b[0m\u001b[0;34m)\u001b[0m\u001b[0;34m\u001b[0m\u001b[0;34m\u001b[0m\u001b[0m\n\u001b[0m",
            "\u001b[0;31mValueError\u001b[0m: substring not found"
          ]
        }
      ]
    },
    {
      "cell_type": "markdown",
      "metadata": {
        "id": "0zAIc_D-XY4t"
      },
      "source": [
        "4-4 문자열 포맷"
      ]
    },
    {
      "cell_type": "code",
      "metadata": {
        "colab": {
          "base_uri": "https://localhost:8080/"
        },
        "id": "RnDFBkLZXWGN",
        "outputId": "56d83f46-819d-41f0-a37d-011ca67bcb1c"
      },
      "source": [
        "print(\"I'm a %d years old\" %20) #integer"
      ],
      "execution_count": null,
      "outputs": [
        {
          "output_type": "stream",
          "text": [
            "I'm a 20 years old\n"
          ],
          "name": "stdout"
        }
      ]
    },
    {
      "cell_type": "code",
      "metadata": {
        "colab": {
          "base_uri": "https://localhost:8080/"
        },
        "id": "A9__HcOvXZnV",
        "outputId": "f7c5100a-fa0c-4308-8210-aa4831592e54"
      },
      "source": [
        "print('I like %s' %'python') #Word"
      ],
      "execution_count": null,
      "outputs": [
        {
          "output_type": "stream",
          "text": [
            "I like python\n"
          ],
          "name": "stdout"
        }
      ]
    },
    {
      "cell_type": "code",
      "metadata": {
        "colab": {
          "base_uri": "https://localhost:8080/"
        },
        "id": "bs74NsipXsme",
        "outputId": "01032a80-2f0b-43b7-ee62-36e05321c5a5"
      },
      "source": [
        "print('apple like %c' %'A') # Character (1)"
      ],
      "execution_count": null,
      "outputs": [
        {
          "output_type": "stream",
          "text": [
            "apple like A\n"
          ],
          "name": "stdout"
        }
      ]
    },
    {
      "cell_type": "code",
      "metadata": {
        "colab": {
          "base_uri": "https://localhost:8080/"
        },
        "id": "50w8L4iPXx8B",
        "outputId": "86e90f64-63f7-4135-f532-5a3353ed78ea"
      },
      "source": [
        "print(\"I like %s color and %s color\" %('yellow','blue'))"
      ],
      "execution_count": null,
      "outputs": [
        {
          "output_type": "stream",
          "text": [
            "I like yellow color and blue color\n"
          ],
          "name": "stdout"
        }
      ]
    },
    {
      "cell_type": "code",
      "metadata": {
        "colab": {
          "base_uri": "https://localhost:8080/"
        },
        "id": "HeIMuiU_YDKm",
        "outputId": "5efedb34-fcea-4305-ab5a-7558eebd8683"
      },
      "source": [
        "print(\"i'm {} years old\".format(20))"
      ],
      "execution_count": null,
      "outputs": [
        {
          "output_type": "stream",
          "text": [
            "i'm 20 years old\n"
          ],
          "name": "stdout"
        }
      ]
    },
    {
      "cell_type": "code",
      "metadata": {
        "colab": {
          "base_uri": "https://localhost:8080/"
        },
        "id": "_ssHs03EYUFn",
        "outputId": "00c6ba74-d5bd-4078-aaac-d27e3f4660e8"
      },
      "source": [
        "print(\"I like {} color and {} color\".format('yellow','blue'))"
      ],
      "execution_count": null,
      "outputs": [
        {
          "output_type": "stream",
          "text": [
            "I like yellow color and blue color\n"
          ],
          "name": "stdout"
        }
      ]
    },
    {
      "cell_type": "code",
      "metadata": {
        "colab": {
          "base_uri": "https://localhost:8080/"
        },
        "id": "JLslv_G7Yo7-",
        "outputId": "4454dc20-60c3-48cb-ad4b-892712e7d35b"
      },
      "source": [
        "print('I like {0} color and {1} color'.format('yellow','blue'))"
      ],
      "execution_count": null,
      "outputs": [
        {
          "output_type": "stream",
          "text": [
            "I like yellow color and blue color\n"
          ],
          "name": "stdout"
        }
      ]
    },
    {
      "cell_type": "code",
      "metadata": {
        "id": "mcRqItbEY6j2",
        "colab": {
          "base_uri": "https://localhost:8080/"
        },
        "outputId": "379ddd6f-19c0-4be3-890f-2fd63d2ae34b"
      },
      "source": [
        "print('I like {1} color and {0} color'.format('yellow','blue'))"
      ],
      "execution_count": null,
      "outputs": [
        {
          "output_type": "stream",
          "text": [
            "I like blue color and yellow color\n"
          ],
          "name": "stdout"
        }
      ]
    },
    {
      "cell_type": "code",
      "metadata": {
        "colab": {
          "base_uri": "https://localhost:8080/"
        },
        "id": "BUASTdUcZV8a",
        "outputId": "9af41856-7bf3-45c4-e082-a45436a3938e"
      },
      "source": [
        "print(\"I'm {age} years old and like {color} color\"\r\n",
        ".format(age=20, color='green'))"
      ],
      "execution_count": null,
      "outputs": [
        {
          "output_type": "stream",
          "text": [
            "I'm 20 years old and like green color\n"
          ],
          "name": "stdout"
        }
      ]
    },
    {
      "cell_type": "code",
      "metadata": {
        "colab": {
          "base_uri": "https://localhost:8080/"
        },
        "id": "HmHP0SQlZkB9",
        "outputId": "4ff0d57f-72b9-490f-bda3-57ca3f3328f5"
      },
      "source": [
        "age = 20\r\n",
        "color = 'green'\r\n",
        "\r\n",
        "print(f\"I'm {age} years old and like {color}\")"
      ],
      "execution_count": null,
      "outputs": [
        {
          "output_type": "stream",
          "text": [
            "I'm 20 years old and like green\n"
          ],
          "name": "stdout"
        }
      ]
    },
    {
      "cell_type": "markdown",
      "metadata": {
        "id": "bX7Yjc94Z2_T"
      },
      "source": [
        "4-5 탈출문자"
      ]
    },
    {
      "cell_type": "code",
      "metadata": {
        "colab": {
          "base_uri": "https://localhost:8080/"
        },
        "id": "oVJeDsPAZxA-",
        "outputId": "51c64912-9779-467f-f23c-099b0fca7790"
      },
      "source": [
        "# \\n: enter\r\n",
        "print('I like green\\n and like music')"
      ],
      "execution_count": null,
      "outputs": [
        {
          "output_type": "stream",
          "text": [
            "I like green\n",
            " and like music\n"
          ],
          "name": "stdout"
        }
      ]
    },
    {
      "cell_type": "code",
      "metadata": {
        "colab": {
          "base_uri": "https://localhost:8080/"
        },
        "id": "kCd3tAE8Z1Uj",
        "outputId": "090e1d7e-0abc-4ab4-dbe3-b1cbf9a61083"
      },
      "source": [
        "print(\"I am a \\\"boy\\\".\")"
      ],
      "execution_count": null,
      "outputs": [
        {
          "output_type": "stream",
          "text": [
            "I am a \"boy\".\n"
          ],
          "name": "stdout"
        }
      ]
    },
    {
      "cell_type": "code",
      "metadata": {
        "id": "DCvtz0eZZ32H"
      },
      "source": [
        "# /을 쓸 경우는 두번"
      ],
      "execution_count": null,
      "outputs": []
    },
    {
      "cell_type": "code",
      "metadata": {
        "colab": {
          "base_uri": "https://localhost:8080/"
        },
        "id": "Mwt2u5cjakc4",
        "outputId": "67912312-1d4d-420c-d3d2-5832daaa4634"
      },
      "source": [
        "# \\r: 커서를 맨 앞 으로 이동\r\n",
        "\r\n",
        "print('Red apple\\rPine')"
      ],
      "execution_count": null,
      "outputs": [
        {
          "output_type": "stream",
          "text": [
            "Red apple\rPine\n"
          ],
          "name": "stdout"
        }
      ]
    },
    {
      "cell_type": "code",
      "metadata": {
        "colab": {
          "base_uri": "https://localhost:8080/"
        },
        "id": "i06WiqILaziL",
        "outputId": "99c6acff-8318-4104-bac7-f2c48590ee70"
      },
      "source": [
        "# \\t: tab\r\n",
        "print('Red\\tApple')"
      ],
      "execution_count": null,
      "outputs": [
        {
          "output_type": "stream",
          "text": [
            "Red\tApple\n"
          ],
          "name": "stdout"
        }
      ]
    },
    {
      "cell_type": "markdown",
      "metadata": {
        "id": "ANp-Kxs9fcJy"
      },
      "source": [
        "4-6 퀴즈"
      ]
    },
    {
      "cell_type": "code",
      "metadata": {
        "id": "KSXt0M2Fa9Zw"
      },
      "source": [
        "# Quiz) 사이트별로 비밀번호를 만들어주는 프로그램을 작성하시오\r\n",
        "\r\n",
        "# 예) http://naver.com\r\n",
        "# 규칙1: http:// 부분은 제외 => naver.com\r\n",
        "# 규칙2: 처음 만나는 점(.) 이후 부분은 제외 => naver\r\n",
        "# 규칙3: 남은 글자 중 처음 세자리 + 글자 갯수 + 글자 내 'e' 갯수 + \"!\" 로 구성\r\n",
        "\r\n",
        "# 예) 생성된 비밀번호: nav51!"
      ],
      "execution_count": 47,
      "outputs": []
    },
    {
      "cell_type": "code",
      "metadata": {
        "colab": {
          "base_uri": "https://localhost:8080/"
        },
        "id": "MIjTZRTjfekr",
        "outputId": "d948193d-fe9e-44cc-ee88-0ef54eab4297"
      },
      "source": [
        "url = \"http://naver.com\"\r\n",
        "\r\n",
        "my_str = url.replace(\"http://\",\"\")\r\n",
        "print(my_str)\r\n",
        "\r\n",
        "my_str1 = my_str[:my_str.index(\".\")] # . 나오는 곳 까지 불러오기\r\n",
        "print(my_str1)\r\n",
        "\r\n",
        "pwd = my_str[:3] + str(len(my_str1)) + str(my_str1.count('e')) + \"!\"\r\n",
        "print(pwd)\r\n"
      ],
      "execution_count": 61,
      "outputs": [
        {
          "output_type": "stream",
          "text": [
            "naver.com\n",
            "naver\n",
            "nav51!\n"
          ],
          "name": "stdout"
        }
      ]
    },
    {
      "cell_type": "markdown",
      "metadata": {
        "id": "iOqbXK2zhEXY"
      },
      "source": [
        "5-1 리스트"
      ]
    },
    {
      "cell_type": "code",
      "metadata": {
        "colab": {
          "base_uri": "https://localhost:8080/"
        },
        "id": "cxDNk64Jfz4s",
        "outputId": "a970ffed-2015-4ace-b0db-2d1eff634317"
      },
      "source": [
        "# 리스트 []\r\n",
        "\r\n",
        "# 지하철 칸별로 10명, 20명, 30명\r\n",
        "subway = [10,20,30]\r\n",
        "print(subway)\r\n"
      ],
      "execution_count": 62,
      "outputs": [
        {
          "output_type": "stream",
          "text": [
            "[10, 20, 30]\n"
          ],
          "name": "stdout"
        }
      ]
    },
    {
      "cell_type": "code",
      "metadata": {
        "colab": {
          "base_uri": "https://localhost:8080/"
        },
        "id": "9e9gTp2fhR9r",
        "outputId": "c7c59533-0bee-4154-8636-e99cea00d58c"
      },
      "source": [
        "subway = ['유재석', '조세호', '박명수']\r\n",
        "print(subway.index('조세호'))"
      ],
      "execution_count": 63,
      "outputs": [
        {
          "output_type": "stream",
          "text": [
            "1\n"
          ],
          "name": "stdout"
        }
      ]
    },
    {
      "cell_type": "code",
      "metadata": {
        "colab": {
          "base_uri": "https://localhost:8080/"
        },
        "id": "igOnCquEhZ-z",
        "outputId": "0f90b208-01d0-4339-df50-082637b6227e"
      },
      "source": [
        "# 뒤에 달기\r\n",
        "subway.append('하하')\r\n",
        "\r\n",
        "print(subway)"
      ],
      "execution_count": 64,
      "outputs": [
        {
          "output_type": "stream",
          "text": [
            "['유재석', '조세호', '박명수', '하하']\n"
          ],
          "name": "stdout"
        }
      ]
    },
    {
      "cell_type": "code",
      "metadata": {
        "colab": {
          "base_uri": "https://localhost:8080/"
        },
        "id": "4n3XAyxthci7",
        "outputId": "75d47d6a-3c67-4c54-83d1-4304fa705a9f"
      },
      "source": [
        "# 중간에 끼워넣기\r\n",
        "subway.insert(1, '정형돈')\r\n",
        "\r\n",
        "print(subway)"
      ],
      "execution_count": 66,
      "outputs": [
        {
          "output_type": "stream",
          "text": [
            "['유재석', '정형돈', '정형돈', '조세호', '박명수', '하하']\n"
          ],
          "name": "stdout"
        }
      ]
    },
    {
      "cell_type": "code",
      "metadata": {
        "colab": {
          "base_uri": "https://localhost:8080/"
        },
        "id": "oheChowghkBD",
        "outputId": "d6b83245-d137-43be-8f9d-a2863ec3a7b4"
      },
      "source": [
        "# 리스트의 마지막 꺼내기\r\n",
        "subway.pop()\r\n",
        "\r\n",
        "print(subway)"
      ],
      "execution_count": 67,
      "outputs": [
        {
          "output_type": "stream",
          "text": [
            "['유재석', '정형돈', '정형돈', '조세호', '박명수']\n"
          ],
          "name": "stdout"
        }
      ]
    },
    {
      "cell_type": "code",
      "metadata": {
        "colab": {
          "base_uri": "https://localhost:8080/"
        },
        "id": "Z70_aJ8_htIz",
        "outputId": "e1af730a-7b57-4b89-81a8-b4760f925fbb"
      },
      "source": [
        "subway.pop()\r\n",
        "\r\n",
        "print(subway)"
      ],
      "execution_count": 68,
      "outputs": [
        {
          "output_type": "stream",
          "text": [
            "['유재석', '정형돈', '정형돈', '조세호']\n"
          ],
          "name": "stdout"
        }
      ]
    },
    {
      "cell_type": "code",
      "metadata": {
        "colab": {
          "base_uri": "https://localhost:8080/"
        },
        "id": "QOKCANEzhxZS",
        "outputId": "6a5f372d-7bef-421d-8713-9a97106ca7d0"
      },
      "source": [
        "subway.append('유재석')\r\n",
        "\r\n",
        "print(subway)\r\n",
        "\r\n",
        "print(subway.count('유재석'))"
      ],
      "execution_count": 69,
      "outputs": [
        {
          "output_type": "stream",
          "text": [
            "['유재석', '정형돈', '정형돈', '조세호', '유재석']\n",
            "2\n"
          ],
          "name": "stdout"
        }
      ]
    },
    {
      "cell_type": "code",
      "metadata": {
        "colab": {
          "base_uri": "https://localhost:8080/"
        },
        "id": "deAafHwuh3Fa",
        "outputId": "0e01dde7-7a36-407d-fbe5-8c78781d7060"
      },
      "source": [
        "num_list = [5,2,3,4,1]\r\n",
        "num_list.sort()\r\n",
        "\r\n",
        "print(num_list)"
      ],
      "execution_count": 71,
      "outputs": [
        {
          "output_type": "stream",
          "text": [
            "[1, 2, 3, 4, 5]\n"
          ],
          "name": "stdout"
        }
      ]
    },
    {
      "cell_type": "code",
      "metadata": {
        "colab": {
          "base_uri": "https://localhost:8080/"
        },
        "id": "hSoy1ZS1h8Ba",
        "outputId": "83feef59-5f6c-4c19-8159-ea182bbe9c9f"
      },
      "source": [
        "num_list.reverse()\r\n",
        "print(num_list)"
      ],
      "execution_count": 72,
      "outputs": [
        {
          "output_type": "stream",
          "text": [
            "[5, 4, 3, 2, 1]\n"
          ],
          "name": "stdout"
        }
      ]
    },
    {
      "cell_type": "code",
      "metadata": {
        "colab": {
          "base_uri": "https://localhost:8080/"
        },
        "id": "KwSnwBYviCwy",
        "outputId": "bd943bac-fbf2-49ec-f815-125a63e28ebf"
      },
      "source": [
        "num_list.clear()\r\n",
        "print(num_list)"
      ],
      "execution_count": 73,
      "outputs": [
        {
          "output_type": "stream",
          "text": [
            "[]\n"
          ],
          "name": "stdout"
        }
      ]
    },
    {
      "cell_type": "code",
      "metadata": {
        "colab": {
          "base_uri": "https://localhost:8080/"
        },
        "id": "8kYRjT8WiE5i",
        "outputId": "c450d792-5146-4a24-a538-a07d8d82e007"
      },
      "source": [
        "mix_list = [\"조세호\", 20, True]\r\n",
        "num_list = [5,2,3,4,1]\r\n",
        "\r\n",
        "num_list.extend(mix_list)\r\n",
        "\r\n",
        "print(num_list)"
      ],
      "execution_count": 74,
      "outputs": [
        {
          "output_type": "stream",
          "text": [
            "[5, 2, 3, 4, 1, '조세호', 20, True]\n"
          ],
          "name": "stdout"
        }
      ]
    },
    {
      "cell_type": "markdown",
      "metadata": {
        "id": "H9ESSsbHiRSq"
      },
      "source": [
        "5-2 사전"
      ]
    },
    {
      "cell_type": "code",
      "metadata": {
        "id": "3KmGXDO4iPIh"
      },
      "source": [
        "cabinet = {3:'유재석', 100:'김태호'}"
      ],
      "execution_count": 76,
      "outputs": []
    },
    {
      "cell_type": "code",
      "metadata": {
        "colab": {
          "base_uri": "https://localhost:8080/"
        },
        "id": "anbxcUQuiSjl",
        "outputId": "84f03685-d090-4579-eaa6-1ca1b88673c8"
      },
      "source": [
        "print(cabinet[3])"
      ],
      "execution_count": 77,
      "outputs": [
        {
          "output_type": "stream",
          "text": [
            "유재석\n"
          ],
          "name": "stdout"
        }
      ]
    },
    {
      "cell_type": "code",
      "metadata": {
        "colab": {
          "base_uri": "https://localhost:8080/"
        },
        "id": "gZKwlqFRihkT",
        "outputId": "d95ef7d4-2d71-4ce5-e394-10b25c57f773"
      },
      "source": [
        "print(cabinet[100])"
      ],
      "execution_count": 78,
      "outputs": [
        {
          "output_type": "stream",
          "text": [
            "김태호\n"
          ],
          "name": "stdout"
        }
      ]
    },
    {
      "cell_type": "code",
      "metadata": {
        "colab": {
          "base_uri": "https://localhost:8080/",
          "height": 35
        },
        "id": "BAcrNcu3ijDb",
        "outputId": "5f8a00f8-9929-40cb-d59e-412c1c463f8b"
      },
      "source": [
        "cabinet.get(3)"
      ],
      "execution_count": 82,
      "outputs": [
        {
          "output_type": "execute_result",
          "data": {
            "application/vnd.google.colaboratory.intrinsic+json": {
              "type": "string"
            },
            "text/plain": [
              "'유재석'"
            ]
          },
          "metadata": {
            "tags": []
          },
          "execution_count": 82
        }
      ]
    },
    {
      "cell_type": "code",
      "metadata": {
        "colab": {
          "base_uri": "https://localhost:8080/",
          "height": 242
        },
        "id": "4hRLlgxcim3-",
        "outputId": "6c7c634c-92bf-45e0-d1a8-490cc40c64b6"
      },
      "source": [
        "print(cabinet.get(5)) #  get을 쓰는 경우는 에러 발생하지 않고 None으로 떨어트림\r\n",
        "print(cabinet.get(5, '사용불가')) # Key가 없는 경우에 대한 처리 방법. 값이 없다면 사용불가 리턴\r\n",
        "print(cabinet[5]) # 에러 발생"
      ],
      "execution_count": 91,
      "outputs": [
        {
          "output_type": "stream",
          "text": [
            "None\n",
            "사용불가\n"
          ],
          "name": "stdout"
        },
        {
          "output_type": "error",
          "ename": "KeyError",
          "evalue": "ignored",
          "traceback": [
            "\u001b[0;31m---------------------------------------------------------------------------\u001b[0m",
            "\u001b[0;31mKeyError\u001b[0m                                  Traceback (most recent call last)",
            "\u001b[0;32m<ipython-input-91-d3b6d4ac23fc>\u001b[0m in \u001b[0;36m<module>\u001b[0;34m()\u001b[0m\n\u001b[1;32m      1\u001b[0m \u001b[0mprint\u001b[0m\u001b[0;34m(\u001b[0m\u001b[0mcabinet\u001b[0m\u001b[0;34m.\u001b[0m\u001b[0mget\u001b[0m\u001b[0;34m(\u001b[0m\u001b[0;36m5\u001b[0m\u001b[0;34m)\u001b[0m\u001b[0;34m)\u001b[0m \u001b[0;31m#  get을 쓰는 경우는 에러 발생하지 않고 None으로 떨어트림\u001b[0m\u001b[0;34m\u001b[0m\u001b[0;34m\u001b[0m\u001b[0m\n\u001b[1;32m      2\u001b[0m \u001b[0mprint\u001b[0m\u001b[0;34m(\u001b[0m\u001b[0mcabinet\u001b[0m\u001b[0;34m.\u001b[0m\u001b[0mget\u001b[0m\u001b[0;34m(\u001b[0m\u001b[0;36m5\u001b[0m\u001b[0;34m,\u001b[0m \u001b[0;34m'사용불가'\u001b[0m\u001b[0;34m)\u001b[0m\u001b[0;34m)\u001b[0m \u001b[0;31m# Key가 없는 경우에 대한 처리 방법. 값이 없다면 사용불가 리턴\u001b[0m\u001b[0;34m\u001b[0m\u001b[0;34m\u001b[0m\u001b[0m\n\u001b[0;32m----> 3\u001b[0;31m \u001b[0mprint\u001b[0m\u001b[0;34m(\u001b[0m\u001b[0mcabinet\u001b[0m\u001b[0;34m[\u001b[0m\u001b[0;36m5\u001b[0m\u001b[0;34m]\u001b[0m\u001b[0;34m)\u001b[0m \u001b[0;31m# 에러 발생\u001b[0m\u001b[0;34m\u001b[0m\u001b[0;34m\u001b[0m\u001b[0m\n\u001b[0m",
            "\u001b[0;31mKeyError\u001b[0m: 5"
          ]
        }
      ]
    },
    {
      "cell_type": "code",
      "metadata": {
        "colab": {
          "base_uri": "https://localhost:8080/"
        },
        "id": "Woas-CeAivSx",
        "outputId": "53b2476f-55e8-4fb8-9414-36edcd6087ca"
      },
      "source": [
        "print(3 in cabinet)\r\n",
        "print(5 in cabinet)"
      ],
      "execution_count": 93,
      "outputs": [
        {
          "output_type": "stream",
          "text": [
            "True\n",
            "False\n"
          ],
          "name": "stdout"
        }
      ]
    },
    {
      "cell_type": "code",
      "metadata": {
        "id": "C1Fv92JejA6D"
      },
      "source": [
        "cabinet = {'A-3':'유재석', 'B-100':'김태호'} # Key는 String도 받을 수 있음"
      ],
      "execution_count": 94,
      "outputs": []
    },
    {
      "cell_type": "code",
      "metadata": {
        "colab": {
          "base_uri": "https://localhost:8080/"
        },
        "id": "s8UkH_nCjjOF",
        "outputId": "555ea8b4-ac0c-444d-a0a5-534cb8521600"
      },
      "source": [
        "print(cabinet)"
      ],
      "execution_count": 95,
      "outputs": [
        {
          "output_type": "stream",
          "text": [
            "{'A-3': '유재석', 'B-100': '김태호'}\n"
          ],
          "name": "stdout"
        }
      ]
    },
    {
      "cell_type": "code",
      "metadata": {
        "colab": {
          "base_uri": "https://localhost:8080/"
        },
        "id": "yC96G3hIjj-i",
        "outputId": "e3c9218d-d292-47f1-f463-98abbc10921a"
      },
      "source": [
        "cabinet['A-3'] = '김종국' # Key 값만 알면 Value 업데이트 가능\r\n",
        "cabinet['B-100'] = '조세호'\r\n",
        "\r\n",
        "print(cabinet)"
      ],
      "execution_count": 96,
      "outputs": [
        {
          "output_type": "stream",
          "text": [
            "{'A-3': '김종국', 'B-100': '조세호'}\n"
          ],
          "name": "stdout"
        }
      ]
    },
    {
      "cell_type": "code",
      "metadata": {
        "colab": {
          "base_uri": "https://localhost:8080/"
        },
        "id": "rTudbA3Wjsah",
        "outputId": "4190727c-01b1-4b72-c2db-fa358d3c53d5"
      },
      "source": [
        "del cabinet['A-3'] # Key 삭제\r\n",
        "print(cabinet)"
      ],
      "execution_count": 97,
      "outputs": [
        {
          "output_type": "stream",
          "text": [
            "{'B-100': '조세호'}\n"
          ],
          "name": "stdout"
        }
      ]
    },
    {
      "cell_type": "code",
      "metadata": {
        "colab": {
          "base_uri": "https://localhost:8080/"
        },
        "id": "6uOcMWnjjwHx",
        "outputId": "6fd86845-d547-4d85-d155-9ce1dc677196"
      },
      "source": [
        "# Key들만 출력\r\n",
        "print(cabinet.keys())"
      ],
      "execution_count": 98,
      "outputs": [
        {
          "output_type": "stream",
          "text": [
            "dict_keys(['B-100'])\n"
          ],
          "name": "stdout"
        }
      ]
    },
    {
      "cell_type": "code",
      "metadata": {
        "colab": {
          "base_uri": "https://localhost:8080/"
        },
        "id": "nj3i25Nmjz_q",
        "outputId": "a304ed37-1d2a-4764-9bf8-f86d2486d2c2"
      },
      "source": [
        "#value만 출력\r\n",
        "print(cabinet.values())"
      ],
      "execution_count": 99,
      "outputs": [
        {
          "output_type": "stream",
          "text": [
            "dict_values(['조세호'])\n"
          ],
          "name": "stdout"
        }
      ]
    },
    {
      "cell_type": "code",
      "metadata": {
        "colab": {
          "base_uri": "https://localhost:8080/"
        },
        "id": "GaeBokFRj2Sp",
        "outputId": "58344a86-1b20-46b4-9cde-ba9e256a6a6e"
      },
      "source": [
        "# Key, value 쌍으로 출력\r\n",
        "print(cabinet.items())"
      ],
      "execution_count": 100,
      "outputs": [
        {
          "output_type": "stream",
          "text": [
            "dict_items([('B-100', '조세호')])\n"
          ],
          "name": "stdout"
        }
      ]
    },
    {
      "cell_type": "code",
      "metadata": {
        "colab": {
          "base_uri": "https://localhost:8080/"
        },
        "id": "J5noSDS4j5l6",
        "outputId": "7452d030-4375-4d1e-85aa-a67b8a2679de"
      },
      "source": [
        "# 모든 값 삭제\r\n",
        "cabinet.clear()\r\n",
        "print(cabinet)"
      ],
      "execution_count": 101,
      "outputs": [
        {
          "output_type": "stream",
          "text": [
            "{}\n"
          ],
          "name": "stdout"
        }
      ]
    },
    {
      "cell_type": "markdown",
      "metadata": {
        "id": "BRkXjQUaj_-y"
      },
      "source": [
        "5-3 튜플 (변경되지 않는 것)"
      ]
    },
    {
      "cell_type": "code",
      "metadata": {
        "id": "7yQ-9E2Nj-si"
      },
      "source": [
        "menu = (\"돈까스\", \"치즈까스\")"
      ],
      "execution_count": 103,
      "outputs": []
    },
    {
      "cell_type": "code",
      "metadata": {
        "colab": {
          "base_uri": "https://localhost:8080/"
        },
        "id": "2S2lxfN5kFfe",
        "outputId": "758826fd-d696-4643-a151-ef9293ec72ec"
      },
      "source": [
        "print(menu[0])\r\n",
        "print(menu[1])"
      ],
      "execution_count": 104,
      "outputs": [
        {
          "output_type": "stream",
          "text": [
            "돈까스\n",
            "치즈까스\n"
          ],
          "name": "stdout"
        }
      ]
    },
    {
      "cell_type": "code",
      "metadata": {
        "colab": {
          "base_uri": "https://localhost:8080/",
          "height": 170
        },
        "id": "osf5NjZakI4j",
        "outputId": "39832f8b-2df6-483c-a9e0-63b5d5b19ac3"
      },
      "source": [
        "menu.add('생선까스') # Tuple은 허락하지 않음"
      ],
      "execution_count": 105,
      "outputs": [
        {
          "output_type": "error",
          "ename": "AttributeError",
          "evalue": "ignored",
          "traceback": [
            "\u001b[0;31m---------------------------------------------------------------------------\u001b[0m",
            "\u001b[0;31mAttributeError\u001b[0m                            Traceback (most recent call last)",
            "\u001b[0;32m<ipython-input-105-d99e655790d9>\u001b[0m in \u001b[0;36m<module>\u001b[0;34m()\u001b[0m\n\u001b[0;32m----> 1\u001b[0;31m \u001b[0mmenu\u001b[0m\u001b[0;34m.\u001b[0m\u001b[0madd\u001b[0m\u001b[0;34m(\u001b[0m\u001b[0;34m'생선까스'\u001b[0m\u001b[0;34m)\u001b[0m \u001b[0;31m# Tuple은 허락하지 않음\u001b[0m\u001b[0;34m\u001b[0m\u001b[0;34m\u001b[0m\u001b[0m\n\u001b[0m",
            "\u001b[0;31mAttributeError\u001b[0m: 'tuple' object has no attribute 'add'"
          ]
        }
      ]
    },
    {
      "cell_type": "code",
      "metadata": {
        "colab": {
          "base_uri": "https://localhost:8080/"
        },
        "id": "Lnt5TznXkLwp",
        "outputId": "2dbece1a-9b03-45ad-a846-e07c3de242fe"
      },
      "source": [
        "name = '김종국'\r\n",
        "age = 20\r\n",
        "hobby = '코딩'\r\n",
        "\r\n",
        "print(name, age, hobby)"
      ],
      "execution_count": 106,
      "outputs": [
        {
          "output_type": "stream",
          "text": [
            "김종국 20 코딩\n"
          ],
          "name": "stdout"
        }
      ]
    },
    {
      "cell_type": "code",
      "metadata": {
        "colab": {
          "base_uri": "https://localhost:8080/"
        },
        "id": "vwsnmHLZkRma",
        "outputId": "c0af1229-14e5-4854-a548-1c097af073f8"
      },
      "source": [
        "(name, age, hobby) = ('김종국', 20, '코딩') \r\n",
        "print(name, age, hobby)"
      ],
      "execution_count": 108,
      "outputs": [
        {
          "output_type": "stream",
          "text": [
            "김종국 20 코딩\n"
          ],
          "name": "stdout"
        }
      ]
    },
    {
      "cell_type": "markdown",
      "metadata": {
        "id": "q14lgY67kY9R"
      },
      "source": [
        "5-4 세트 (집합)"
      ]
    },
    {
      "cell_type": "code",
      "metadata": {
        "colab": {
          "base_uri": "https://localhost:8080/"
        },
        "id": "_F947anDkV_p",
        "outputId": "03c11b33-5df7-424e-cae0-21c7541b6a7a"
      },
      "source": [
        "# 중복 안됨, 순서 없음\r\n",
        "\r\n",
        "my_set = {1,2,3,3,3,3}\r\n",
        "print(my_set)"
      ],
      "execution_count": 110,
      "outputs": [
        {
          "output_type": "stream",
          "text": [
            "{1, 2, 3}\n"
          ],
          "name": "stdout"
        }
      ]
    },
    {
      "cell_type": "code",
      "metadata": {
        "id": "oNYpgJAfkcsy"
      },
      "source": [
        "java = {'유재석', '김태호', '양세형'}\r\n",
        "python = set(['유재석', '박명수'])"
      ],
      "execution_count": 111,
      "outputs": []
    },
    {
      "cell_type": "code",
      "metadata": {
        "colab": {
          "base_uri": "https://localhost:8080/"
        },
        "id": "mHL2LPWMknAB",
        "outputId": "fde01cb3-234c-49a6-b40c-10f6aaf87cf9"
      },
      "source": [
        "# 교집합\r\n",
        "print(java & python)\r\n",
        "\r\n",
        "print(java.intersection(python))"
      ],
      "execution_count": 113,
      "outputs": [
        {
          "output_type": "stream",
          "text": [
            "{'유재석'}\n",
            "{'유재석'}\n"
          ],
          "name": "stdout"
        }
      ]
    },
    {
      "cell_type": "code",
      "metadata": {
        "colab": {
          "base_uri": "https://localhost:8080/"
        },
        "id": "GQGzATVtkqsx",
        "outputId": "6bb027b4-edc9-42f1-eec0-951d59adad40"
      },
      "source": [
        "# 합집합\r\n",
        "print(java | python)\r\n",
        "print(java.union(python))"
      ],
      "execution_count": 117,
      "outputs": [
        {
          "output_type": "stream",
          "text": [
            "{'김태호', '박명수', '양세형', '유재석'}\n",
            "{'김태호', '박명수', '양세형', '유재석'}\n"
          ],
          "name": "stdout"
        }
      ]
    },
    {
      "cell_type": "code",
      "metadata": {
        "colab": {
          "base_uri": "https://localhost:8080/"
        },
        "id": "N8QHyUHGkv6G",
        "outputId": "e105d431-d4eb-4ee5-d664-ae8128a633aa"
      },
      "source": [
        "# 차집합 (Java는 할 수 있으나 Python은 못하는 사람들)\r\n",
        "print(java - python)\r\n",
        "print(java.difference(python))"
      ],
      "execution_count": 119,
      "outputs": [
        {
          "output_type": "stream",
          "text": [
            "{'양세형', '김태호'}\n",
            "{'양세형', '김태호'}\n"
          ],
          "name": "stdout"
        }
      ]
    },
    {
      "cell_type": "code",
      "metadata": {
        "colab": {
          "base_uri": "https://localhost:8080/"
        },
        "id": "JkX3-c5gk57o",
        "outputId": "2d3806bf-25e3-4458-8439-a15f5d9a667d"
      },
      "source": [
        "python.add('김태호')\r\n",
        "print(python)"
      ],
      "execution_count": 120,
      "outputs": [
        {
          "output_type": "stream",
          "text": [
            "{'박명수', '유재석', '김태호'}\n"
          ],
          "name": "stdout"
        }
      ]
    },
    {
      "cell_type": "code",
      "metadata": {
        "colab": {
          "base_uri": "https://localhost:8080/"
        },
        "id": "NFJXsf7BlF15",
        "outputId": "c54c0f38-ab00-42bd-f374-a275531edcee"
      },
      "source": [
        "print(java-python)"
      ],
      "execution_count": 121,
      "outputs": [
        {
          "output_type": "stream",
          "text": [
            "{'양세형'}\n"
          ],
          "name": "stdout"
        }
      ]
    },
    {
      "cell_type": "code",
      "metadata": {
        "colab": {
          "base_uri": "https://localhost:8080/"
        },
        "id": "P0j8dOdilH2J",
        "outputId": "509e7351-9cca-450b-bbc4-81bcd88b399c"
      },
      "source": [
        "python.remove('김태호')\r\n",
        "print(python)"
      ],
      "execution_count": 122,
      "outputs": [
        {
          "output_type": "stream",
          "text": [
            "{'박명수', '유재석'}\n"
          ],
          "name": "stdout"
        }
      ]
    },
    {
      "cell_type": "markdown",
      "metadata": {
        "id": "NLUtWM6elNLk"
      },
      "source": [
        "5-5 자료 구조의 변경"
      ]
    },
    {
      "cell_type": "code",
      "metadata": {
        "colab": {
          "base_uri": "https://localhost:8080/"
        },
        "id": "CCPD3xPPlLeh",
        "outputId": "fc3646b2-872a-4533-ba78-9dac10cc06e9"
      },
      "source": [
        "menu = {'커피','우유','주스'}\r\n",
        "print(menu, type(menu))"
      ],
      "execution_count": 124,
      "outputs": [
        {
          "output_type": "stream",
          "text": [
            "{'주스', '커피', '우유'} <class 'set'>\n"
          ],
          "name": "stdout"
        }
      ]
    },
    {
      "cell_type": "code",
      "metadata": {
        "colab": {
          "base_uri": "https://localhost:8080/"
        },
        "id": "6OjuseQIlTQZ",
        "outputId": "6251ff11-9804-4a09-8696-c4fe1cd078c1"
      },
      "source": [
        "menu = list(menu)\r\n",
        "print(menu, type(menu))"
      ],
      "execution_count": 125,
      "outputs": [
        {
          "output_type": "stream",
          "text": [
            "['주스', '커피', '우유'] <class 'list'>\n"
          ],
          "name": "stdout"
        }
      ]
    },
    {
      "cell_type": "code",
      "metadata": {
        "colab": {
          "base_uri": "https://localhost:8080/"
        },
        "id": "VyGP02WKlXyS",
        "outputId": "33f5e0b7-4e76-4a9e-c309-527a08c778d7"
      },
      "source": [
        "menu = tuple(menu)\r\n",
        "print(menu, type(menu))"
      ],
      "execution_count": 126,
      "outputs": [
        {
          "output_type": "stream",
          "text": [
            "('주스', '커피', '우유') <class 'tuple'>\n"
          ],
          "name": "stdout"
        }
      ]
    },
    {
      "cell_type": "code",
      "metadata": {
        "colab": {
          "base_uri": "https://localhost:8080/"
        },
        "id": "YQcT9v7klbHA",
        "outputId": "92cba1a3-5d24-468c-b3b3-7dbf0ff4f5aa"
      },
      "source": [
        "menu = set(menu)\r\n",
        "print(menu, type(menu))"
      ],
      "execution_count": 127,
      "outputs": [
        {
          "output_type": "stream",
          "text": [
            "{'주스', '커피', '우유'} <class 'set'>\n"
          ],
          "name": "stdout"
        }
      ]
    },
    {
      "cell_type": "code",
      "metadata": {
        "id": "Do1yMVA-lezq"
      },
      "source": [
        "# 5-6\r\n",
        "# 당신의 학교에서는 파이썬 코딩대회를 주최합니다.\r\n",
        "# 참석률을 높이기 위해 댓글 이벤트를 진행하기로 하였습니다.\r\n",
        "# 댓글 작성자들 중에 추첨을 통해 1명은 치킨, 3명은 커피 쿠폰을 받게 됩니다.\r\n",
        "# 추첨 프로그램을 작성하시오.\r\n",
        "\r\n",
        "# 조건1: 편의상 댓글은 20명이 작성되었고, 아이디는 1~20이라고 가정\r\n",
        "# 조건2: 댓글 내용과 상관없이 무작위로 추첨하되 중복 불가\r\n",
        "# 조건3: random 모듈의 shuffle과 sample을 활용\r\n",
        "\r\n",
        "# (출력 예제)\r\n",
        "#  -- 당첨자 발표 --\r\n",
        "# 치킨 당첨자 : 1\r\n",
        "# 커피 당첨자 : [2, 3, 4]\r\n",
        "#  -- 축하합니다 -- "
      ],
      "execution_count": 128,
      "outputs": []
    },
    {
      "cell_type": "code",
      "metadata": {
        "colab": {
          "base_uri": "https://localhost:8080/"
        },
        "id": "i5hgq-gYq3MZ",
        "outputId": "3fcd8117-c53c-48fa-c019-fe49ecbba322"
      },
      "source": [
        "#(활용 예제)\r\n",
        "from random import *\r\n",
        "lst = [1,2,3,4,5]\r\n",
        "print(lst)\r\n",
        "shuffle(lst)\r\n",
        "print(lst)\r\n",
        "print(sample(lst,1))"
      ],
      "execution_count": 1,
      "outputs": [
        {
          "output_type": "stream",
          "text": [
            "[1, 2, 3, 4, 5]\n",
            "[1, 3, 2, 4, 5]\n",
            "[2]\n"
          ],
          "name": "stdout"
        }
      ]
    },
    {
      "cell_type": "code",
      "metadata": {
        "colab": {
          "base_uri": "https://localhost:8080/"
        },
        "id": "qNmjNCT1rALG",
        "outputId": "2b1b13dd-9a54-4035-8b39-77dcc31127f3"
      },
      "source": [
        "ids = []\r\n",
        "for i in range(20):\r\n",
        "    ids.append(i+1)\r\n",
        "print(ids)\r\n",
        "\r\n",
        "# ids  = range(1,21) 해도 된다;;;;; 바보"
      ],
      "execution_count": 2,
      "outputs": [
        {
          "output_type": "stream",
          "text": [
            "[1, 2, 3, 4, 5, 6, 7, 8, 9, 10, 11, 12, 13, 14, 15, 16, 17, 18, 19, 20]\n"
          ],
          "name": "stdout"
        }
      ]
    },
    {
      "cell_type": "code",
      "metadata": {
        "colab": {
          "base_uri": "https://localhost:8080/"
        },
        "id": "a6qsGHM9rLnt",
        "outputId": "5d4b5dfd-c19b-4502-95a2-aa486d5f7326"
      },
      "source": [
        "chicken_id = sample(ids,1)\r\n",
        "ids_set = set(ids) - set(chicken_id)\r\n",
        "#print(type(ids_set))\r\n",
        "#print(ids_set)\r\n",
        "ids_list = list(ids_set)\r\n",
        "coffee_ids = sample(ids_list,3)\r\n",
        "\r\n",
        "print(\" -- 당첨자 발표 --\")\r\n",
        "print(\"치킨 당첨자 : \", chicken_id)\r\n",
        "print(\"커피 당첨자 : \", coffee_ids)\r\n",
        "print(\" -- 축하합니다 --\")"
      ],
      "execution_count": 5,
      "outputs": [
        {
          "output_type": "stream",
          "text": [
            " -- 당첨자 발표 --\n",
            "치킨 당첨자 :  [19]\n",
            "커피 당첨자 :  [2, 14, 9]\n",
            " -- 축하합니다 --\n"
          ],
          "name": "stdout"
        }
      ]
    },
    {
      "cell_type": "code",
      "metadata": {
        "colab": {
          "base_uri": "https://localhost:8080/"
        },
        "id": "BFOWWeqftrKc",
        "outputId": "4dca9623-f7b0-4fb0-d14d-a7dcabeb702e"
      },
      "source": [
        "users = range(1,21)\r\n",
        "users = list(users)\r\n",
        "winners = sample(users,4)\r\n",
        "print(winners)\r\n",
        "\r\n",
        "print(\" -- 당첨자 발표 --\")\r\n",
        "print(\"치킨 당첨자 : {0}\".format(winners[0]))\r\n",
        "print(\"커피 당첨자 : {0}\".format(winners[1:]))\r\n",
        "print(\" -- 축하합니다 --\")"
      ],
      "execution_count": 13,
      "outputs": [
        {
          "output_type": "stream",
          "text": [
            "[9, 14, 13, 16]\n",
            " -- 당첨자 발표 --\n",
            "치킨 당첨자 : 9\n",
            "커피 당첨자 : [14, 13, 16]\n",
            " -- 축하합니다 --\n"
          ],
          "name": "stdout"
        }
      ]
    },
    {
      "cell_type": "markdown",
      "metadata": {
        "id": "sGmbt7Gcvo1I"
      },
      "source": [
        "6-1 if (분기)"
      ]
    },
    {
      "cell_type": "code",
      "metadata": {
        "colab": {
          "base_uri": "https://localhost:8080/"
        },
        "id": "1cStobUTt-dt",
        "outputId": "bec932f8-cb58-4e3f-ace5-1175671df6ec"
      },
      "source": [
        "weather = \"비\"\r\n",
        "if weather == \"비\":\r\n",
        "    print(\"우산을 챙기세요.\")\r\n",
        "elif weather == \"미세먼지\":\r\n",
        "    print(\"마스크를 챙기세요.\")\r\n",
        "else:\r\n",
        "    print(\"준비물 필요 없어요\")\r\n"
      ],
      "execution_count": 14,
      "outputs": [
        {
          "output_type": "stream",
          "text": [
            "우산을 챙기세요.\n"
          ],
          "name": "stdout"
        }
      ]
    },
    {
      "cell_type": "code",
      "metadata": {
        "colab": {
          "base_uri": "https://localhost:8080/"
        },
        "id": "-hB53-86uBR0",
        "outputId": "708ef4e9-ca61-4f96-d33c-5eb61dfc1abd"
      },
      "source": [
        "# Input으로 받아준다.\r\n",
        "weather = input(\"오늘 날씨는 어떤가요?\")\r\n",
        "if weather == \"비\":\r\n",
        "    print(\"우산을 챙기세요.\")\r\n",
        "elif weather == \"미세먼지\":\r\n",
        "    print(\"마스크를 챙기세요.\")\r\n",
        "else:\r\n",
        "    print(\"준비물 필요 없어요\")"
      ],
      "execution_count": 15,
      "outputs": [
        {
          "output_type": "stream",
          "text": [
            "오늘 날씨는 어떤가요?미세먼지\n",
            "마스크를 챙기세요.\n"
          ],
          "name": "stdout"
        }
      ]
    },
    {
      "cell_type": "code",
      "metadata": {
        "colab": {
          "base_uri": "https://localhost:8080/"
        },
        "id": "_nV-X1wQwC8C",
        "outputId": "a5e61450-483b-4d22-dc0b-32b26042cdbe"
      },
      "source": [
        "weather = input(\"오늘 날씨는 어떤가요?\")\r\n",
        "if weather == \"비\" or weather == \"눈\":\r\n",
        "    print(\"우산을 챙기세요.\")\r\n",
        "elif weather == \"미세먼지\":\r\n",
        "    print(\"마스크를 챙기세요.\")\r\n",
        "else:\r\n",
        "    print(\"준비물 필요 없어요\")"
      ],
      "execution_count": 16,
      "outputs": [
        {
          "output_type": "stream",
          "text": [
            "오늘 날씨는 어떤가요?눈\n",
            "우산을 챙기세요.\n"
          ],
          "name": "stdout"
        }
      ]
    },
    {
      "cell_type": "code",
      "metadata": {
        "colab": {
          "base_uri": "https://localhost:8080/"
        },
        "id": "hWe7xfMSwItr",
        "outputId": "02cb0042-f82b-451c-dc19-63933008118d"
      },
      "source": [
        "# Input으로 받으면 무조건 String이기 때문에 Int로 감싸줘서 처리한다.\r\n",
        "temp = int(input(\"기온은 어떤가요?\"))\r\n",
        "\r\n",
        "if temp >= 30:\r\n",
        "        print(\"너무 더워요. 나가지 마세요.\")\r\n",
        "elif temp <= 30 and temp > 10:\r\n",
        "        print(\"적당한 날씨에요.\")\r\n",
        "elif temp < 10 and temp >= 0:\r\n",
        "        print(\"외투를 챙기세요\")\r\n",
        "else: \r\n",
        "    print(\"너무 추워요. 나가지 마세요\")"
      ],
      "execution_count": 25,
      "outputs": [
        {
          "output_type": "stream",
          "text": [
            "기온은 어떤가요?1\n",
            "외투를 챙기세요\n"
          ],
          "name": "stdout"
        }
      ]
    },
    {
      "cell_type": "markdown",
      "metadata": {
        "id": "3bMwq5510AEH"
      },
      "source": [
        "6-2 for"
      ]
    },
    {
      "cell_type": "code",
      "metadata": {
        "colab": {
          "base_uri": "https://localhost:8080/"
        },
        "id": "NEqs211RwfmP",
        "outputId": "5975ef09-7d6f-4d46-8409-5ce3b3979eb4"
      },
      "source": [
        "for no in [0,1,2,3,4,5]:\r\n",
        "    print(\"대기번호: {0}\".format(no))"
      ],
      "execution_count": 23,
      "outputs": [
        {
          "output_type": "stream",
          "text": [
            "대기번호: 0\n",
            "대기번호: 1\n",
            "대기번호: 2\n",
            "대기번호: 3\n",
            "대기번호: 4\n",
            "대기번호: 5\n"
          ],
          "name": "stdout"
        }
      ]
    },
    {
      "cell_type": "code",
      "metadata": {
        "colab": {
          "base_uri": "https://localhost:8080/"
        },
        "id": "0J9XDd8-w02s",
        "outputId": "473a7109-157b-448e-93cd-06c5414fa40b"
      },
      "source": [
        "for no in range(0,5):\r\n",
        "    print(\"대기번호: {0}\".format(no))"
      ],
      "execution_count": 26,
      "outputs": [
        {
          "output_type": "stream",
          "text": [
            "대기번호: 0\n",
            "대기번호: 1\n",
            "대기번호: 2\n",
            "대기번호: 3\n",
            "대기번호: 4\n"
          ],
          "name": "stdout"
        }
      ]
    },
    {
      "cell_type": "code",
      "metadata": {
        "colab": {
          "base_uri": "https://localhost:8080/"
        },
        "id": "BZQrdBbXyh8y",
        "outputId": "d23870fd-5057-4f6e-f15d-674aef74c9d5"
      },
      "source": [
        "users = [\"아이언맨\", \"토르\", \"그루트\"]\r\n",
        "for user in users:\r\n",
        "    print(\"{0}님, 주문하신 커피 나왔습니다.\".format(user))"
      ],
      "execution_count": 27,
      "outputs": [
        {
          "output_type": "stream",
          "text": [
            "아이언맨님, 주문하신 커피 나왔습니다.\n",
            "토르님, 주문하신 커피 나왔습니다.\n",
            "그루트님, 주문하신 커피 나왔습니다.\n"
          ],
          "name": "stdout"
        }
      ]
    },
    {
      "cell_type": "markdown",
      "metadata": {
        "id": "1upqrmkk0CWg"
      },
      "source": [
        "6-3 while"
      ]
    },
    {
      "cell_type": "code",
      "metadata": {
        "colab": {
          "base_uri": "https://localhost:8080/"
        },
        "id": "Wt8cVca3yt6b",
        "outputId": "20da4d44-36b5-4fe0-d170-89b196a9737a"
      },
      "source": [
        "customer = \"토르\"\r\n",
        "index = 5\r\n",
        "\r\n",
        "while index >= 1:\r\n",
        "    print(\"{0}, 커피가 준비되었습니다. {1}번 남았어요.\".format(customer, index))\r\n",
        "    index -= 1\r\n",
        "    if index == 0:\r\n",
        "        print('주문하신 커피가 폐기되었어요.')"
      ],
      "execution_count": 28,
      "outputs": [
        {
          "output_type": "stream",
          "text": [
            "토르, 커피가 준비되었습니다. 5번 남았어요.\n",
            "토르, 커피가 준비되었습니다. 4번 남았어요.\n",
            "토르, 커피가 준비되었습니다. 3번 남았어요.\n",
            "토르, 커피가 준비되었습니다. 2번 남았어요.\n",
            "토르, 커피가 준비되었습니다. 1번 남았어요.\n",
            "주문하신 커피가 폐기되었어요.\n"
          ],
          "name": "stdout"
        }
      ]
    },
    {
      "cell_type": "code",
      "metadata": {
        "id": "rJClmsJ1y924"
      },
      "source": [
        "customer = '아이언맨'\r\n",
        "index = 1\r\n",
        "while True:\r\n",
        "    print(\"{0}, 커피가 준비되었습니다. 호출 {1}회\".format(customer, index))\r\n",
        "    index += 1"
      ],
      "execution_count": null,
      "outputs": []
    },
    {
      "cell_type": "code",
      "metadata": {
        "colab": {
          "base_uri": "https://localhost:8080/"
        },
        "id": "bLMSt5IUy9VC",
        "outputId": "7adec3b1-49df-46d7-ad2f-35e8f7d7eada"
      },
      "source": [
        "customer = \"토르\"\r\n",
        "person = \"unknown\"\r\n",
        "\r\n",
        "while person != customer:\r\n",
        "    print(\"{0}님, 커피가 준비되었습니다.\".format(customer))\r\n",
        "    person = input('이름이 어떻게 되세요?')\r\n",
        "    if person == customer:\r\n",
        "        print(\"{0}님, 커피 드릴게요.\".format(customer))\r\n",
        "    # else:\r\n",
        "    #     print(\"다른 손님 거에요\")\r\n",
        "    #     break"
      ],
      "execution_count": 38,
      "outputs": [
        {
          "output_type": "stream",
          "text": [
            "토르님, 커피가 준비되었습니다.\n",
            "이름이 어떻게 되세요?아이언맨\n",
            "토르님, 커피가 준비되었습니다.\n",
            "이름이 어떻게 되세요?그루트\n",
            "토르님, 커피가 준비되었습니다.\n",
            "이름이 어떻게 되세요?토르\n",
            "토르님, 커피 드릴게요.\n"
          ],
          "name": "stdout"
        }
      ]
    },
    {
      "cell_type": "markdown",
      "metadata": {
        "id": "_tqIBQ6N0ENY"
      },
      "source": [
        "6-4 continue와 break"
      ]
    },
    {
      "cell_type": "code",
      "metadata": {
        "colab": {
          "base_uri": "https://localhost:8080/"
        },
        "id": "tGsBq2XYz9JV",
        "outputId": "ae0e5024-5b07-4040-e332-1d5241af19df"
      },
      "source": [
        "absent = [2,5] # 결석한 학생\r\n",
        "\r\n",
        "for student in range(1,11): # 1~10번까지\r\n",
        "    if student in absent:\r\n",
        "        continue\r\n",
        "    print(\"{0}번, 책 읽어봐.\".format(student))"
      ],
      "execution_count": 39,
      "outputs": [
        {
          "output_type": "stream",
          "text": [
            "1번, 책 읽어봐.\n",
            "3번, 책 읽어봐.\n",
            "4번, 책 읽어봐.\n",
            "6번, 책 읽어봐.\n",
            "7번, 책 읽어봐.\n",
            "8번, 책 읽어봐.\n",
            "9번, 책 읽어봐.\n",
            "10번, 책 읽어봐.\n"
          ],
          "name": "stdout"
        }
      ]
    },
    {
      "cell_type": "code",
      "metadata": {
        "colab": {
          "base_uri": "https://localhost:8080/"
        },
        "id": "oC6iUbWFzqzZ",
        "outputId": "714d24dc-fbd1-4bd6-a54f-e0d67dcc7ff5"
      },
      "source": [
        "absent = [2,5] # 결석한 학생\r\n",
        "no_book = [7] # 책이 없어\r\n",
        "\r\n",
        "for student in range(1,11): # 1~10번까지\r\n",
        "    if student in absent:\r\n",
        "        continue\r\n",
        "    elif student in no_book:\r\n",
        "        print(\"오늘 수업 여기까지, {0}번은 교무실로 따라와\".format(student))\r\n",
        "        break\r\n",
        "    print(\"{0}번, 책 읽어봐.\".format(student))"
      ],
      "execution_count": 41,
      "outputs": [
        {
          "output_type": "stream",
          "text": [
            "1번, 책 읽어봐.\n",
            "3번, 책 읽어봐.\n",
            "4번, 책 읽어봐.\n",
            "6번, 책 읽어봐.\n",
            "오늘 수업 여기까지, 7번은 교무실로 따라와\n"
          ],
          "name": "stdout"
        }
      ]
    },
    {
      "cell_type": "markdown",
      "metadata": {
        "id": "SNR0safP0rue"
      },
      "source": [
        "6-5 한줄 for\r\n"
      ]
    },
    {
      "cell_type": "code",
      "metadata": {
        "colab": {
          "base_uri": "https://localhost:8080/"
        },
        "id": "5Q84vuLg0uH3",
        "outputId": "e4b7ab48-e6d6-43a9-e7df-422a39ef9907"
      },
      "source": [
        "# 출석번호가 1,2,3,4, 앞에 100을 붙이기로 함 =>  101, 102, 103...\r\n",
        "\r\n",
        "student = [1,2,3,4,5]\r\n",
        "student = [i+100 for i in student]\r\n",
        "print(student)"
      ],
      "execution_count": 43,
      "outputs": [
        {
          "output_type": "stream",
          "text": [
            "[101, 102, 103, 104, 105]\n"
          ],
          "name": "stdout"
        }
      ]
    },
    {
      "cell_type": "code",
      "metadata": {
        "colab": {
          "base_uri": "https://localhost:8080/"
        },
        "id": "DI9Z20D7015p",
        "outputId": "89380f87-1165-4acf-fbb6-ef50fb6375f9"
      },
      "source": [
        "# 학생 이름을 길이로 변환\r\n",
        "students = [\"아이언맨\", \"토르\", \"그루트\"]\r\n",
        "students = [len(i) for i in students]\r\n",
        "print(students)"
      ],
      "execution_count": 45,
      "outputs": [
        {
          "output_type": "stream",
          "text": [
            "[4, 2, 3]\n"
          ],
          "name": "stdout"
        }
      ]
    },
    {
      "cell_type": "code",
      "metadata": {
        "colab": {
          "base_uri": "https://localhost:8080/"
        },
        "id": "r3nDyXpO1CSK",
        "outputId": "1dcfbcf8-1bf9-4c24-dfa5-0cddf0efc498"
      },
      "source": [
        "# 학생 이름을 대문자로 변환\r\n",
        "students = [\"ironman\", \"thor\", \"groot\"]\r\n",
        "students = [i.upper() for i in students]\r\n",
        "print(students)"
      ],
      "execution_count": 46,
      "outputs": [
        {
          "output_type": "stream",
          "text": [
            "['IRONMAN', 'THOR', 'GROOT']\n"
          ],
          "name": "stdout"
        }
      ]
    },
    {
      "cell_type": "code",
      "metadata": {
        "id": "WMaaFm7w1gvR"
      },
      "source": [
        "# 당신은 택시 기사님입니다.\r\n",
        "# 50명의 승객과 매칭 기회가 있을 때, 총 탑승 승객 수를 구하는 프로그램을 작성하십시오.\r\n",
        "\r\n",
        "# 조건1: 승객별 운행 소요시간은 5분~50분 사이의 난수로 정해집니다.\r\n",
        "# 조건2: 당신은 소요시간 5분~15분 사이의 승객만 매칭해야 합니다.\r\n",
        "\r\n",
        "# (출력문 예제)\r\n",
        "# [O] 1번째 손님 (소요시간 : 15분)\r\n",
        "# [ ] 2번째 손님 (소요시간 : 50분)\r\n",
        "# [O] 3번째 손님 (소요시간 : 5분)\r\n",
        "# ...\r\n",
        "# [ ] 50번째 손님 (소요시간 : 16분)\r\n",
        "\r\n",
        "# 총 탑승 승객 : 2 분"
      ],
      "execution_count": null,
      "outputs": []
    },
    {
      "cell_type": "code",
      "metadata": {
        "id": "SSg7cnKr1pAB"
      },
      "source": [
        "time_list = list(range(0,50))\r\n",
        "for i in time_list:\r\n",
        "    time_list[i] = randrange(5,51)    "
      ],
      "execution_count": 70,
      "outputs": []
    },
    {
      "cell_type": "code",
      "metadata": {
        "colab": {
          "base_uri": "https://localhost:8080/"
        },
        "id": "gWOxQxyw2H0J",
        "outputId": "c5766d81-6f22-4c07-a74f-c46ee08812e2"
      },
      "source": [
        "count = 0\r\n",
        "for i in range(0,50):\r\n",
        "    if time_list[i] <= 15 and time_list[i] >= 5:\r\n",
        "        print(\"[O] {0}번째 손님 (소요시간 : {1}분)\".format(i+1, time_list[i]))\r\n",
        "        count += 1\r\n",
        "    else:\r\n",
        "        print(\"[ ] {0}번째 손님 (소요시간 : {1}분)\".format(i+1, time_list[i]))\r\n",
        "    \r\n",
        "print(\"총 탑승 승객 : {0} 분\".format(count))"
      ],
      "execution_count": 75,
      "outputs": [
        {
          "output_type": "stream",
          "text": [
            "[O] 1번째 손님 (소요시간 : 7분)\n",
            "[ ] 2번째 손님 (소요시간 : 33분)\n",
            "[ ] 3번째 손님 (소요시간 : 21분)\n",
            "[ ] 4번째 손님 (소요시간 : 28분)\n",
            "[ ] 5번째 손님 (소요시간 : 49분)\n",
            "[ ] 6번째 손님 (소요시간 : 48분)\n",
            "[ ] 7번째 손님 (소요시간 : 31분)\n",
            "[ ] 8번째 손님 (소요시간 : 27분)\n",
            "[ ] 9번째 손님 (소요시간 : 16분)\n",
            "[ ] 10번째 손님 (소요시간 : 34분)\n",
            "[ ] 11번째 손님 (소요시간 : 39분)\n",
            "[ ] 12번째 손님 (소요시간 : 37분)\n",
            "[ ] 13번째 손님 (소요시간 : 29분)\n",
            "[O] 14번째 손님 (소요시간 : 5분)\n",
            "[ ] 15번째 손님 (소요시간 : 23분)\n",
            "[ ] 16번째 손님 (소요시간 : 48분)\n",
            "[O] 17번째 손님 (소요시간 : 9분)\n",
            "[ ] 18번째 손님 (소요시간 : 24분)\n",
            "[O] 19번째 손님 (소요시간 : 12분)\n",
            "[ ] 20번째 손님 (소요시간 : 39분)\n",
            "[O] 21번째 손님 (소요시간 : 13분)\n",
            "[O] 22번째 손님 (소요시간 : 7분)\n",
            "[O] 23번째 손님 (소요시간 : 10분)\n",
            "[O] 24번째 손님 (소요시간 : 10분)\n",
            "[ ] 25번째 손님 (소요시간 : 24분)\n",
            "[O] 26번째 손님 (소요시간 : 9분)\n",
            "[O] 27번째 손님 (소요시간 : 13분)\n",
            "[ ] 28번째 손님 (소요시간 : 38분)\n",
            "[O] 29번째 손님 (소요시간 : 6분)\n",
            "[ ] 30번째 손님 (소요시간 : 29분)\n",
            "[O] 31번째 손님 (소요시간 : 5분)\n",
            "[ ] 32번째 손님 (소요시간 : 47분)\n",
            "[ ] 33번째 손님 (소요시간 : 36분)\n",
            "[ ] 34번째 손님 (소요시간 : 24분)\n",
            "[ ] 35번째 손님 (소요시간 : 40분)\n",
            "[O] 36번째 손님 (소요시간 : 6분)\n",
            "[ ] 37번째 손님 (소요시간 : 35분)\n",
            "[ ] 38번째 손님 (소요시간 : 23분)\n",
            "[ ] 39번째 손님 (소요시간 : 29분)\n",
            "[ ] 40번째 손님 (소요시간 : 43분)\n",
            "[O] 41번째 손님 (소요시간 : 11분)\n",
            "[ ] 42번째 손님 (소요시간 : 26분)\n",
            "[ ] 43번째 손님 (소요시간 : 46분)\n",
            "[ ] 44번째 손님 (소요시간 : 34분)\n",
            "[O] 45번째 손님 (소요시간 : 13분)\n",
            "[ ] 46번째 손님 (소요시간 : 50분)\n",
            "[ ] 47번째 손님 (소요시간 : 27분)\n",
            "[ ] 48번째 손님 (소요시간 : 25분)\n",
            "[O] 49번째 손님 (소요시간 : 15분)\n",
            "[ ] 50번째 손님 (소요시간 : 30분)\n",
            "총 탑승 승객 : 16 분\n"
          ],
          "name": "stdout"
        }
      ]
    },
    {
      "cell_type": "code",
      "metadata": {
        "colab": {
          "base_uri": "https://localhost:8080/"
        },
        "id": "1hqTMpPG4UQ3",
        "outputId": "5457f189-fab2-4463-ed4a-20499962bc7f"
      },
      "source": [
        "# 풀이\r\n",
        "\r\n",
        "cnt = 0 \r\n",
        "for i in range(1,51): # 1~50이라는 수\r\n",
        "    time = randrange(5,51) # 5~51분\r\n",
        "    if 5 <= time <= 15:\r\n",
        "        print(\"[O] {0}번째 손님 (소요시간 : {1} 분)\".format(i,time))\r\n",
        "        cnt += 1\r\n",
        "    else:\r\n",
        "        print(\"[ ] {0}번째 손님 (소요시간 : {1} 분)\".format(i,time))  \r\n",
        "print(\"총 탑승 승객 : {0} 분\".format(cnt))"
      ],
      "execution_count": 78,
      "outputs": [
        {
          "output_type": "stream",
          "text": [
            "[ ] 1번째 손님 (소요시간 : 21 분)\n",
            "[ ] 2번째 손님 (소요시간 : 29 분)\n",
            "[ ] 3번째 손님 (소요시간 : 22 분)\n",
            "[ ] 4번째 손님 (소요시간 : 44 분)\n",
            "[O] 5번째 손님 (소요시간 : 5 분)\n",
            "[O] 6번째 손님 (소요시간 : 10 분)\n",
            "[O] 7번째 손님 (소요시간 : 5 분)\n",
            "[ ] 8번째 손님 (소요시간 : 44 분)\n",
            "[ ] 9번째 손님 (소요시간 : 42 분)\n",
            "[ ] 10번째 손님 (소요시간 : 31 분)\n",
            "[ ] 11번째 손님 (소요시간 : 30 분)\n",
            "[ ] 12번째 손님 (소요시간 : 42 분)\n",
            "[ ] 13번째 손님 (소요시간 : 49 분)\n",
            "[ ] 14번째 손님 (소요시간 : 16 분)\n",
            "[ ] 15번째 손님 (소요시간 : 16 분)\n",
            "[ ] 16번째 손님 (소요시간 : 18 분)\n",
            "[ ] 17번째 손님 (소요시간 : 41 분)\n",
            "[O] 18번째 손님 (소요시간 : 13 분)\n",
            "[ ] 19번째 손님 (소요시간 : 24 분)\n",
            "[ ] 20번째 손님 (소요시간 : 50 분)\n",
            "[O] 21번째 손님 (소요시간 : 7 분)\n",
            "[ ] 22번째 손님 (소요시간 : 26 분)\n",
            "[ ] 23번째 손님 (소요시간 : 23 분)\n",
            "[ ] 24번째 손님 (소요시간 : 41 분)\n",
            "[ ] 25번째 손님 (소요시간 : 27 분)\n",
            "[ ] 26번째 손님 (소요시간 : 49 분)\n",
            "[ ] 27번째 손님 (소요시간 : 48 분)\n",
            "[ ] 28번째 손님 (소요시간 : 39 분)\n",
            "[ ] 29번째 손님 (소요시간 : 18 분)\n",
            "[ ] 30번째 손님 (소요시간 : 37 분)\n",
            "[ ] 31번째 손님 (소요시간 : 31 분)\n",
            "[ ] 32번째 손님 (소요시간 : 40 분)\n",
            "[ ] 33번째 손님 (소요시간 : 18 분)\n",
            "[O] 34번째 손님 (소요시간 : 11 분)\n",
            "[O] 35번째 손님 (소요시간 : 9 분)\n",
            "[ ] 36번째 손님 (소요시간 : 16 분)\n",
            "[O] 37번째 손님 (소요시간 : 13 분)\n",
            "[O] 38번째 손님 (소요시간 : 15 분)\n",
            "[ ] 39번째 손님 (소요시간 : 24 분)\n",
            "[ ] 40번째 손님 (소요시간 : 44 분)\n",
            "[ ] 41번째 손님 (소요시간 : 16 분)\n",
            "[ ] 42번째 손님 (소요시간 : 50 분)\n",
            "[ ] 43번째 손님 (소요시간 : 31 분)\n",
            "[ ] 44번째 손님 (소요시간 : 43 분)\n",
            "[ ] 45번째 손님 (소요시간 : 48 분)\n",
            "[ ] 46번째 손님 (소요시간 : 37 분)\n",
            "[O] 47번째 손님 (소요시간 : 8 분)\n",
            "[ ] 48번째 손님 (소요시간 : 45 분)\n",
            "[O] 49번째 손님 (소요시간 : 8 분)\n",
            "[ ] 50번째 손님 (소요시간 : 39 분)\n",
            "총 탑승 승객 : 11 분\n"
          ],
          "name": "stdout"
        }
      ]
    },
    {
      "cell_type": "markdown",
      "metadata": {
        "id": "dWo8Snau5So1"
      },
      "source": [
        "7-1 함수"
      ]
    },
    {
      "cell_type": "code",
      "metadata": {
        "id": "5LbEAI275RyF"
      },
      "source": [
        ""
      ],
      "execution_count": null,
      "outputs": []
    }
  ]
}